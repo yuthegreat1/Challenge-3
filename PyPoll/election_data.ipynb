{
 "cells": [
  {
   "cell_type": "code",
   "execution_count": 5,
   "id": "73d3c290",
   "metadata": {},
   "outputs": [],
   "source": [
    "import pandas as pd\n",
    "file = 'Resources/election_data.csv'\n",
    "df = pd.read_csv(file)\n",
    "total_votes = len(df)\n",
    "candidate_names = df[\"Candidate\"].unique()"
   ]
  },
  {
   "cell_type": "code",
   "execution_count": 11,
   "id": "0e903138",
   "metadata": {},
   "outputs": [],
   "source": [
    "candidate_grouped = df.groupby([\"Candidate\"])\n",
    "candidate_total = candidate_grouped.count()\n",
    "total = candidate_total.loc[[\"Charles Casper Stockham\",\"Diana DeGette\",\"Raymon Anthony Doane\"],\"Ballot ID\"]"
   ]
  },
  {
   "cell_type": "code",
   "execution_count": 12,
   "id": "b36aac4d",
   "metadata": {},
   "outputs": [
    {
     "data": {
      "text/plain": [
       "Candidate\n",
       "Charles Casper Stockham     85213\n",
       "Diana DeGette              272892\n",
       "Raymon Anthony Doane        11606\n",
       "Name: Ballot ID, dtype: int64"
      ]
     },
     "execution_count": 12,
     "metadata": {},
     "output_type": "execute_result"
    }
   ],
   "source": []
  }
 ],
 "metadata": {
  "kernelspec": {
   "display_name": "Python 3 (ipykernel)",
   "language": "python",
   "name": "python3"
  },
  "language_info": {
   "codemirror_mode": {
    "name": "ipython",
    "version": 3
   },
   "file_extension": ".py",
   "mimetype": "text/x-python",
   "name": "python",
   "nbconvert_exporter": "python",
   "pygments_lexer": "ipython3",
   "version": "3.9.12"
  }
 },
 "nbformat": 4,
 "nbformat_minor": 5
}
